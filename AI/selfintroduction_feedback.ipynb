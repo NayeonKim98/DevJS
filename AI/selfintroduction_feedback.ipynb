{
  "nbformat": 4,
  "nbformat_minor": 0,
  "metadata": {
    "colab": {
      "provenance": [],
      "mount_file_id": "1OSs20303CPqN5wMh3t-KszOE1SaOjFsd",
      "authorship_tag": "ABX9TyPviQUsTl3UviwERb8qlU5a",
      "include_colab_link": true
    },
    "kernelspec": {
      "name": "python3",
      "display_name": "Python 3"
    },
    "language_info": {
      "name": "python"
    }
  },
  "cells": [
    {
      "cell_type": "markdown",
      "metadata": {
        "id": "view-in-github",
        "colab_type": "text"
      },
      "source": [
        "<a href=\"https://colab.research.google.com/github/Yeyeong99/DevJS/blob/main/AI/selfintroduction_feedback.ipynb\" target=\"_parent\"><img src=\"https://colab.research.google.com/assets/colab-badge.svg\" alt=\"Open In Colab\"/></a>"
      ]
    },
    {
      "cell_type": "code",
      "source": [
        "pip install groq"
      ],
      "metadata": {
        "colab": {
          "base_uri": "https://localhost:8080/"
        },
        "id": "8udPskTpTFNQ",
        "outputId": "db2c3ba0-3381-49d1-a287-a3db153978dc"
      },
      "execution_count": null,
      "outputs": [
        {
          "output_type": "stream",
          "name": "stdout",
          "text": [
            "Collecting groq\n",
            "  Downloading groq-0.22.0-py3-none-any.whl.metadata (15 kB)\n",
            "Requirement already satisfied: anyio<5,>=3.5.0 in /usr/local/lib/python3.11/dist-packages (from groq) (4.9.0)\n",
            "Requirement already satisfied: distro<2,>=1.7.0 in /usr/local/lib/python3.11/dist-packages (from groq) (1.9.0)\n",
            "Requirement already satisfied: httpx<1,>=0.23.0 in /usr/local/lib/python3.11/dist-packages (from groq) (0.28.1)\n",
            "Requirement already satisfied: pydantic<3,>=1.9.0 in /usr/local/lib/python3.11/dist-packages (from groq) (2.11.1)\n",
            "Requirement already satisfied: sniffio in /usr/local/lib/python3.11/dist-packages (from groq) (1.3.1)\n",
            "Requirement already satisfied: typing-extensions<5,>=4.10 in /usr/local/lib/python3.11/dist-packages (from groq) (4.13.0)\n",
            "Requirement already satisfied: idna>=2.8 in /usr/local/lib/python3.11/dist-packages (from anyio<5,>=3.5.0->groq) (3.10)\n",
            "Requirement already satisfied: certifi in /usr/local/lib/python3.11/dist-packages (from httpx<1,>=0.23.0->groq) (2025.1.31)\n",
            "Requirement already satisfied: httpcore==1.* in /usr/local/lib/python3.11/dist-packages (from httpx<1,>=0.23.0->groq) (1.0.7)\n",
            "Requirement already satisfied: h11<0.15,>=0.13 in /usr/local/lib/python3.11/dist-packages (from httpcore==1.*->httpx<1,>=0.23.0->groq) (0.14.0)\n",
            "Requirement already satisfied: annotated-types>=0.6.0 in /usr/local/lib/python3.11/dist-packages (from pydantic<3,>=1.9.0->groq) (0.7.0)\n",
            "Requirement already satisfied: pydantic-core==2.33.0 in /usr/local/lib/python3.11/dist-packages (from pydantic<3,>=1.9.0->groq) (2.33.0)\n",
            "Requirement already satisfied: typing-inspection>=0.4.0 in /usr/local/lib/python3.11/dist-packages (from pydantic<3,>=1.9.0->groq) (0.4.0)\n",
            "Downloading groq-0.22.0-py3-none-any.whl (126 kB)\n",
            "\u001b[2K   \u001b[90m━━━━━━━━━━━━━━━━━━━━━━━━━━━━━━━━━━━━━━━━\u001b[0m \u001b[32m126.7/126.7 kB\u001b[0m \u001b[31m2.4 MB/s\u001b[0m eta \u001b[36m0:00:00\u001b[0m\n",
            "\u001b[?25hInstalling collected packages: groq\n",
            "Successfully installed groq-0.22.0\n"
          ]
        }
      ]
    },
    {
      "cell_type": "code",
      "source": [
        "import os\n",
        "import csv\n",
        "from groq import Groq"
      ],
      "metadata": {
        "id": "ei_YCHd8THT5"
      },
      "execution_count": null,
      "outputs": []
    },
    {
      "cell_type": "code",
      "source": [
        "client = Groq(api_key='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')\n",
        "MODEL_NAME = \"Gemma2-9b-It\""
      ],
      "metadata": {
        "id": "G5vJ37bjTJYd"
      },
      "execution_count": null,
      "outputs": []
    },
    {
      "cell_type": "code",
      "execution_count": null,
      "metadata": {
        "id": "oSR-WI0mTCaM"
      },
      "outputs": [],
      "source": [
        "PROMPT_TEMPLATE = \"\"\"\n",
        "You're helping create a dataset for training an AI assistant to evaluate IT-related job applications.\n",
        "Given a job description keyword, generate these in Korean:\n",
        "1. A self-introduction paragraph that reflects the keyword at {reflect_rate}% level\n",
        "    0%: Does not reflect the keyword at all, no examples or experiences are provided\n",
        "    For example:\n",
        "    저는 웹 개발에 큰 관심이 있어 프로그래밍을 배워 왔습니다. Java 언어에 익숙하며, 웹 개발 프레임워크에 대한 배우고 싶은 의지가 있습니다.\n",
        "\n",
        "    25%: Partially reflects the keyword, but lacks depth or concrete examples\n",
        "    For example: 개인 프로젝트에서 Spring Boot를 접하고, 기초적인 웹 백엔드 개발에 사용해보았습니다. REST API 개발과 데이터베이스 연동에 대해 배우고 실습했습니다.\n",
        "\n",
        "    50%: Reflects the keyword adequately, but could be improved, but how to apply in real work is not mentioned\n",
        "    For example:\n",
        "    학부 시절 AWS 클라우드 기초 강의를 수료하고, 졸업 프로젝트로 AWS EC2를 활용한 웹 애플리케이션을 배포했습니다. 이후 AWS Certified Solutions Architect 자격증을 취득하여 AWS 클라우드 환경 구축에 대한 심화된 이해와 실무 경험을 갖추게 되었습니다.\n",
        "\n",
        "    75%: Well reflects the keyword, with good examples, MUST RESPOND INCLUDING APPLICATION IN REAL WORK BUT how to apply in real work is not clear\n",
        "    For example:\n",
        "    학부 시절 AWS 클라우드를 이용한 웹 서비스를 처음 개발해보았습니다. 서버를 개발한 후 AWS EC2를 활용하여 배포하였고, 이를 통해 EC2 인스턴스를 직접 생성하고, Ubuntu 환경에 Nginx와 Gunicorn을 설치하여 웹 서버를 구성하였으며, 보안 그룹 설정을 통해 인바운드 트래픽을 제어하는 방법을 익혔습니다.\n",
        "    이러한 경험은 실무에서 서비스 운영 환경을 직접 구성하거나, 트래픽 상황에 따라 유연하게 인프라를 조정해야 하는 상황에 있어 큰 도움이 될 수 있을 것이라 확신합니다. 특히, 운영 중 발생할 수 있는 보안 이슈나 서비스 장애에 대해 빠르게 대응할 수 있는 기반이 될 것으로 생각합니다.\n",
        "\n",
        "    100%: Perfectly reflects the keyword, with excellent examples. MUST RESPOND INCLUDING CLEAR and SPECIFIC APPLICATION IN REAL WORK\n",
        "    For example:\n",
        "    학부 시절 Spring Boot를 활용하여 사용자 맞춤형 금융 상품을 추천하는 웹 백엔드 프로젝트에 참여했습니다. 특히, 대용량의 금융 데이터를 효율적으로 처리하고 어플리케이션의 성능을 향상시키기 위해 람다 표현식과 Stream API를 활용하여 데이터 필터링 및 매핑 과정을 함수형 프로그래밍 방식으로 구현했습니다. 예를 들어, 조건에 따라 다양한 금융 상품을 분류하고, 사용자 입력에 따라 실시간으로 추천 결과를 반환하는 기능에서 Stream을 사용하여 코드의 가독성과 실행 속도를 동시에 개선할 수 있었습니다.\n",
        "    이와 같은 경험은 실무에서 복잡한 비즈니스 로직을 깔끔하고 효율적으로 구현해야 하는 상황이나, 성능 최적화가 중요한 마이크로서비스 환경에서 특히 유용하다고 생각합니다.  예를 들어, 금융 상품 추천 로직처럼 다양한 조건을 기반으로 데이터를 실시간으로 분류·가공해야 할 때, Stream API를 활용한 병렬 처리와 필터링 방식을 이용해 효율을 높이겠습니다. 또한 람다 표현식과 같은 방식으로 중복되는 로직을 간결하게 추상화함으로써, 코드의 유지보수성 향상에 기여하겠습니다.\n",
        "\n",
        "2. A feedback message assessing how well the paragraph reflects the job requirement (score 1-5 + suggestion)\n",
        "    score 1: Does not reflect the keyword at all, no examples or experiences are provided\n",
        "    score 2: Partially reflects the keyword, but lacks depth or concrete examples\n",
        "    score 3: Reflects the keyword adequately, but could be improved, but how to apply in real work is not mentioned\n",
        "    score 4: Well reflects the keyword, with good examples, but how to apply in real work is not clear\n",
        "    score 5: Perfectly reflects the keyword, with excellent examples and clear application in real work\n",
        "    suggestion: Provide constructive feedback on how to improve the self-introduction\n",
        "    Respond by formatting feedback message starting like this:\n",
        "    5점 만점으로 평가하였을 때 ...점입니다.\n",
        "    Respond by adding suggestion after the beginning sentece.\n",
        "\n",
        "You can refer to these examples:\n",
        "(Highlight': Spring Boot를 활용한 웹 백엔드 개발 경험)\n",
        "(job category: Backend)\n",
        "(JDReflectRate: 0%)\n",
        "SelfIntroduction:\n",
        "저는 웹 개발에 큰 관심이 있어 프로그래밍을 배워 왔습니다. Java 언어에 익숙하며, 웹 개발 프레임워크에 대한 배우고 싶은 의지가 있습니다.\n",
        "Feedback:\n",
        "5점 만점으로 평가하였을 때 1점입니다.  Spring Boot 개발 경험에 대한 내용이 전혀 없어,  요청된 핵심 역량을 보여주지 못했습니다. '웹 개발에 큰 관심이 있어 프로그래밍을 배워 왔습니다.'와 같은 일반적인 표현보다는, 구체적인 경험과 그 경험을 통해 얻은 성과나 배움을 강조하시고, 실무에 어떻게 적용할 수 있을지 반영하면 좋을 것 같습니다.\n",
        "\n",
        "(Highlight': Spring Boot를 활용한 웹 백엔드 개발 경험)\n",
        "(JDReflectRate: 25%)\n",
        "(JobCategory: Backend)\n",
        "SelfIntroduction:\n",
        "개인 프로젝트에서 Spring Boot를 접하고, 기초적인 웹 백엔드 개발에 사용해보았습니다. REST API 개발과 데이터베이스 연동에 대해 배우고 실습했습니다.\n",
        "Feedback:\n",
        "5점 만점으로 평가하였을 때 2점입니다. Spring Boot를 사용한 웹 백엔드 개발 경험을 언급하고 있지만, 구체적인 프로젝트나 기술 사용 사례가 부족합니다. 또한, 배운 내용을 어떻게 실무에 적용할 수 있을지에 관한 언급이 필요합니다.\n",
        "\n",
        "\n",
        "(Highlight: AWS 기반 클라우드 환경 구축 경험)\n",
        "(job category: Cloud)\n",
        "(JDReflectRate: 50%)\n",
        "SelfIntroduction:\n",
        "학부 시절 AWS 클라우드 기초 강의를 수료하고, 졸업 프로젝트로 AWS EC2를 활용한 웹 애플리케이션을 배포했습니다. 이후 AWS Certified Solutions Architect 자격증을 취득하여 AWS 클라우드 환경 구축에 대한 심화된 이해와 실무 경험을 갖추게 되었습니다.\n",
        "Feedback:\n",
        "5점 만점으로 평가하였을 때 3점입니다. AWS 클라우드 환경 구축에 대한 기본적인 이해와 경험을 보여주고 있지만, 단순한 나열에 불과하기 때문에 실무에서 어떻게 활용할 지가 명확하지 않습니다. AWS 클라우드 환경 구축 경험을 구체적으로 설명하고, 그 경험을 통해 얻은 성과나 배움을 강조하시면 좋을 것 같습니다.\n",
        "\n",
        "(Highlight: AWS 기반 클라우드 환경 구축 경험)\n",
        "(job category: Cloud)\n",
        "(JDReflectRate: 75%)\n",
        "SelfIntroduction:\n",
        "학부 시절 AWS 클라우드를 이용한 웹 서비스를 처음 개발해보았습니다. 서버를 개발한 후 AWS EC2를 활용하여 배포하였고, 이를 통해 EC2 인스턴스를 직접 생성하고, Ubuntu 환경에 Nginx와 Gunicorn을 설치하여 웹 서버를 구성하였으며, 보안 그룹 설정을 통해 인바운드 트래픽을 제어하는 방법을 익혔습니다.\n",
        "이러한 경험은 실무에서 서비스 운영 환경을 직접 구성하거나, 트래픽 상황에 따라 유연하게 인프라를 조정해야 하는 상황에 있어 큰 도움이 될 수 있을 것이라 확신합니다. 특히, 운영 중 발생할 수 있는 보안 이슈나 서비스 장애에 대해 빠르게 대응할 수 있는 기반이 될 것으로 생각합니다.\n",
        "Feedback:\n",
        "5점 만점으로 평가하였을 때 4점입니다. AWS 클라우드 환경 구축에 대한 구체적인 경험과 그 경험을 통해 얻은 성과나 배움이 구체성을 드러내고 있다는 점에서 긍정적입니다. 다만, 실무에서 어떻게 적용할지에 관한 내용이 비교적 일반적이기 때문에 이 부분을 보완하면 어떨까요?\n",
        "예를 들어, '로드 밸런서와 오토스케일링 그룹을 설정하여 트래픽 부하에 따라 인스턴스를 자동으로 조정하는 구조를 설계하겠습니다'와 같이 구체성이 드러나면 좋을 것 같습니다.\n",
        "\n",
        "(Highlight': Spring Boot를 활용한 웹 백엔드 개발 경험)\n",
        "(JDReflectRate: 100)\n",
        "(JobCategory: Backend)\n",
        "SelfIntroduction':\n",
        "학부 시절 Spring Boot를 활용하여 사용자 맞춤형 금융 상품을 추천하는 웹 백엔드 프로젝트에 참여했습니다. 특히, 대용량의 금융 데이터를 효율적으로 처리하고 어플리케이션의 성능을 향상시키기 위해 람다 표현식과 Stream API를 활용하여 데이터 필터링 및 매핑 과정을 함수형 프로그래밍 방식으로 구현했습니다. 예를 들어, 조건에 따라 다양한 금융 상품을 분류하고, 사용자 입력에 따라 실시간으로 추천 결과를 반환하는 기능에서 Stream을 사용하여 코드의 가독성과 실행 속도를 동시에 개선할 수 있었습니다.\n",
        "이와 같은 경험은 실무에서 복잡한 비즈니스 로직을 깔끔하고 효율적으로 구현해야 하는 상황이나, 성능 최적화가 중요한 마이크로서비스 환경에서 특히 유용하다고 생각합니다.  예를 들어, 금융 상품 추천 로직처럼 다양한 조건을 기반으로 데이터를 실시간으로 분류·가공해야 할 때, Stream API를 활용한 병렬 처리와 필터링 방식을 이용해 효율을 높이겠습니다. 또한 람다 표현식과 같은 방식으로 중복되는 로직을 간결하게 추상화함으로써, 코드의 유지보수성 향상에 기여하겠습니다.\n",
        "Feedback:\n",
        "5점 만점으로 평가하였을 때 5점입니다. Spring Boot를 활용한 웹 백엔드 개발 경험을 구체적으로 설명하고, 관련 기술 (Spring Boot, RESTful API, Swagger) 을 활용한 사례를 제시하며, 고성능 개발에 대한 이해도를 보여주고 있습니다. 또한 앞으로 백엔드 개발자로서 어떠한 면에서 기여할 수 있을지, 특정 상황을 가정하여 구체적으로 답변하고 있는 점이 긍정적으로 평가됩니다.\n",
        "\n",
        "\n",
        "Keyword: \"{highlight}\"\n",
        "\n",
        "Return in this format (JSON):\n",
        "{{\n",
        "  \"Highlight\": ...,\n",
        "  \"SelfIntroduction\": ...,\n",
        "  \"Feedback\": ...,\n",
        "  \"JDReflectRate\": {reflect_rate},\n",
        "  \"JobCategory\": \"{job_category}\"\n",
        "}}\n",
        "\n",
        "Respond only in a single-line JSON object. Do not include code block markdown (```). Do not include explanations. Use double quotes for all keys and string values. Escape any double quotes within string values.\n",
        "\"\"\""
      ]
    },
    {
      "cell_type": "code",
      "source": [
        "def generate_data(highlight, job_category, reflect_rate):\n",
        "    prompt = PROMPT_TEMPLATE.format(\n",
        "        highlight=highlight,\n",
        "        reflect_rate=reflect_rate,\n",
        "        job_category=job_category\n",
        "    )\n",
        "\n",
        "    response = client.chat.completions.create(\n",
        "        model=MODEL_NAME,\n",
        "        messages=[\n",
        "            {\"role\": \"system\", \"content\": \"You are an expert assistant for job application writing. You should generate all data in Korean\"},\n",
        "            {\"role\": \"user\", \"content\": prompt},\n",
        "\n",
        "            ],\n",
        "        temperature=0.7\n",
        "    )\n",
        "\n",
        "    # JSON 문자열을 안전하게 파싱\n",
        "    import json\n",
        "    content = response.choices[0].message.content\n",
        "    try:\n",
        "        data = json.loads(content)\n",
        "        return data\n",
        "    except json.JSONDecodeError:\n",
        "        print(\"JSON 디코딩 실패:\\n\", content)\n",
        "        return None\n"
      ],
      "metadata": {
        "id": "ctg6XZS2TR3A"
      },
      "execution_count": null,
      "outputs": []
    },
    {
      "cell_type": "code",
      "source": [
        "import csv\n",
        "\n",
        "filename = '/content/drive/MyDrive/DevJS/highlight_jobcategory.csv'\n",
        "data = []\n",
        "\n",
        "with open(filename, mode='r', encoding='utf-8-sig') as f:\n",
        "    reader = csv.reader(f)\n",
        "    next(reader)  # 헤더 건너뛰기\n",
        "    for row in reader:\n",
        "        data.append((row[0], row[1]))\n",
        "\n",
        "print(data)"
      ],
      "metadata": {
        "colab": {
          "base_uri": "https://localhost:8080/"
        },
        "id": "ZGCXhlcLTcje",
        "outputId": "1c783c1b-1c37-4b21-ee77-21a6e9be85f6"
      },
      "execution_count": null,
      "outputs": [
        {
          "output_type": "stream",
          "name": "stdout",
          "text": [
            "[('Spring Boot를 활용한 웹 백엔드 개발 경험', 'Backend'), ('React 기반 프론트엔드 개발 경험', 'Frontend'), ('Keras를 활용한 딥러닝 모델 학습 경험', 'AI/ML'), ('Kubernetes를 활용한 클러스터 관리 경험', 'DevOps'), ('보안 인증 시스템 구축 경험', 'Security'), ('AWS 기반 클라우드 서비스 구현 경험', 'Cloud'), ('PostgreSQL 데이터베이스 관리 경험', 'Database'), ('Android 개발 경험', 'Mobile'), ('게임 엔진(Unity/Unreal Engine)  경험', 'Game'), ('엔 setzt의 개발을 위한 C/C++ 언어 경험', 'Embedded'), ('Io T 시스템 설계 경험', 'IoT'), ('스마트 계약 개발 경험', 'Blockchain'), ('VR/AR 콘텐츠 개발 툴(Unity, Unreal Engine 등) 경험', 'VR/AR'), ('Scikit-learn을 활용한 머신러닝 모델 개발 경험', 'Data Science'), ('Spark를 활용한 대규모 데이터 처리 경험', 'Data Engineering'), ('SQL을 활용한 데이터 분석 경험', 'Data Analysis'), ('Tableau 또는 Power BI를 활용한 데이터 시각화 경험', 'Data Visualization'), ('데이터 정책 및 규정 수립 경험', 'Data Governance'), ('Spring Boot를 활용한 웹 백엔드 서비스 개발 경험', 'Backend'), ('React 기반 프론트엔드 개발 경험', 'Frontend'), ('Keras를 활용한 딥러닝 모델 학습 경험', 'AI/ML'), ('Jenkins를 활용한 CI/CD 구축 경험', 'DevOps'), ('보안 취약점 분석 경험', 'Security'), ('AWS 기반 클라우드 서비스 구축 경험', 'Cloud'), ('PostgreSQL 데이터베이스 관리 경험', 'Database'), ('React 기반 앱 개발 경험', 'Mobile'), ('Unity 게임 엔진을 활용한 게임 개발 경험', 'Game'), ('에म्ब디드 시스템 개발 경험', 'Embedded'), ('IoT 데이터 분석 및 처리 경험', 'IoT'), ('스마트 계약 개발 경험', 'Blockchain'), ('VR/AR 컨텐츠 개발 경험', 'VR/AR'), ('딥러닝 모델에 대한 이해도', 'Data Science'), ('Spark를 활용한 Big Data 처리 경험', 'Data Engineering'), ('SQL 데이터베이스 설계 및 구현 경험', 'Data Analysis'), ('Tableau 또는 Power BI 활용 데이터 시각화', 'Data Visualization'), ('데이터 정의 및 데이터 가이드라인 수립 경험', 'Data Governance'), ('RESTful API 설계 경험', 'Backend'), ('React 기반 프론트엔드 개발 경험', 'Frontend'), ('Keras를 활용한 딥러닝 모델 학습 경험', 'AI/ML'), ('Kubernetes를 활용한 클러스터 관리 경험', 'DevOps'), ('정보보안 정책 수립 및 관리 경험', 'Security'), ('AWS 기반 클라우드 서비스 개발 경험', 'Cloud'), ('MySQL 데이터베이스 구현 경험', 'Database'), ('Mobile 앱 개발 경험', 'Mobile'), ('Unity 기반 게임 개발 경험', 'Game'), ('에म्ब디드 시스템 하드웨어와 소프트웨어를 결합하는 경험', 'Embedded'), ('MQTT 프로토콜 이해도', 'IoT'), ('스마트 계약(Smart Contract) 개발 경험', 'Blockchain'), ('VR/AR 컨텐츠 개발 경험', 'VR/AR'), ('Numpy를 활용한 데이터 분석 경험', 'Data Science'), ('Spark를 활용한 대규모 데이터 처리 경험', 'Data Engineering'), ('SQL을 활용한 데이터 분석 경험', 'Data Analysis'), ('데이터 시각화 도구(예: Tableau, Power BI) 활용 경험', 'Data Visualization'), ('데이터 정책 및 표준 수립 경험', 'Data Governance'), ('RESTful API 설계 경험', 'Backend'), ('서버사이드 렌더링(SSR) 이해도', 'Frontend'), ('Keras를 활용한 딥러닝 모델 학습 경험', 'AI/ML'), ('CI/CD pipeline 구축 경험', 'DevOps'), ('SIEM 시스템 운영 및 분석 경험', 'Security'), ('AWS 기반 클라우드 서비스 구축 경험', 'Cloud'), ('MySQL 데이터베이스 구축 경험', 'Database'), ('Kotlin 을 활용한 모바일 앱 개발 경험', 'Mobile'), ('3D 게임 엔진 이해도', 'Game'), ('엔드 기반 시스템 설계 경험', 'Embedded'), ('MQTT 프로토콜 이해도', 'IoT'), ('스마트 계약(Smart Contract) 개발 경험', 'Blockchain'), ('Unity 또는 Unreal Engine 기반 VR/AR 앱 개발 경험', 'VR/AR'), ('딥러닝 모델 평가 및 개선 경험', 'Data Science'), ('Spark를 활용한 데이터 처리 경험', 'Data Engineering'), ('SQL 쿼리 활용한 데이터 분석 경험', 'Data Analysis'), ('Tableau 또는 Power BI를 활용한 데이터 시각화 경험', 'Data Visualization'), ('데이터 모델 설계 경험', 'Data Governance'), ('Spring Boot를 활용한 웹 백엔드 서비스 개발 경험', 'Backend'), ('React 기반 프론트엔드 개발 경험', 'Frontend'), ('Keras를 활용한 딥러닝 모델 학습 경험', 'AI/ML'), ('Kubernetes를 활용한 클라우드 환경 관리 경험', 'DevOps'), ('정보보안 관련 기술(Security) 이해도', 'Security'), ('AWS 기반 클라우드 서비스 구축 경험', 'Cloud'), ('MySQL 데이터베이스 관리 경험', 'Database'), ('스마트폰 앱 개발 경험', 'Mobile'), ('Unity 를 활용한 게임 개발 경험', 'Game'), ('임베디드 시스템 하드웨어 및 소프트웨어 설계 경험', 'Embedded'), ('MQTT 프로토콜 이해도', 'IoT'), ('스마트 계약(Smart Contract) 개발 경험', 'Blockchain'), ('VR 컨텐츠 개발 경험', 'VR/AR'), ('딥러닝 모델 학습 경험', 'Data Science'), ('Spark를 활용한 대용량 데이터 처리 경험', 'Data Engineering'), ('SQL을 활용한 데이터 분석 경험', 'Data Analysis'), ('Tableau 또는 Power BI를 활용한 데이터 시각화 경험', 'Data Visualization'), ('데이터 정의 규범 및 데이터 가이드라인에 대한 이해도', 'Data Governance'), ('Spring Boot를 활용한 웹 백엔드 서비스 개발 경험', 'Backend'), ('React 기반 프론트엔드 개발 경험', 'Frontend'), ('Keras를 활용한 딥러닝 모델 학습 경험', 'AI/ML'), ('Terraform을 활용한 인프라 자동화 경험', 'DevOps'), ('시큐어리티 관련 규정 및 표준 지식', 'Security'), ('AWS 기반 클라우드 환경 구축 경험', 'Cloud'), ('MySQL을 활용한 데이터베이스 설계 및 구현 경험', 'Database'), ('Android 앱 개발 경험', 'Mobile'), ('Unity를 활용한 게임 개발 경험', 'Game'), ('에म्ब디드 시스템 소프트웨어 개발 경험', 'Embedded'), ('LoRaWAN 프로토콜 이해도', 'IoT'), ('스마트 계약 개발 경험', 'Blockchain'), ('VR/AR 콘텐츠 개발에 사용되는 Unity 엔진 경험', 'VR/AR'), ('TensorFlow를 활용한 딥러닝 모델 학습 경험', 'Data Science'), ('Spark를 활용한 데이터 처리 경험', 'Data Engineering'), ('SQL을 활용한 데이터 분석 경험', 'Data Analysis'), ('Tableau 또는 Power BI를 활용한 데이터 시각화 경험', 'Data Visualization'), ('데이터 정책 및 규정 수립 경험', 'Data Governance'), ('Spring Boot를 활용한 웹 백엔드 서비스 개발 경험', 'Backend'), ('React 기반 프론트엔드 개발 경험', 'Frontend'), ('Keras를 활용한 딥러닝 모델 학습 경험', 'AI/ML'), ('Jenkins를 활용한 CI/CD 자동화 Pipeline 구축 경험', 'DevOps'), ('정보보안 관련 시스템 설계 경험', 'Security'), ('AWS 기반 클라우드 인프라 구축 경험', 'Cloud'), ('MySQL 데이터베이스 설계 경험', 'Database'), ('Android SDK를 활용한 앱 개발 경험', 'Mobile'), ('Unity 게임 엔진을 활용한 게임 개발 경험', 'Game'), ('임베디드 시스템 하드웨어 설계 경험', 'Embedded'), ('MQTT 프로토콜에 대한 이해도', 'IoT'), ('BLockchain 분야 프로젝트 경험', 'Blockchain'), ('VR/AR 콘텐츠 개발 경험', 'VR/AR'), ('Scikit-learn을 활용한 머신러닝 모델 개발 경험', 'Data Science'), ('Spark를 활용한 데이터 처리 경험', 'Data Engineering'), ('SQL을 활용한 데이터베이스 분석 경험', 'Data Analysis'), ('Tableau 또는 Power BI와 같은 데이터 시각화 도구 경험', 'Data Visualization'), ('데이터 가정, 정의 및 제약 조건 설정 경험', 'Data Governance'), ('Spring Boot를 활용한 웹 서비스 개발 경험', 'Backend'), ('React 기반 프론트엔드 개발 경험', 'Frontend'), ('Keras를 활용한 딥러닝 모델 학습 경험', 'AI/ML'), ('Kubernetes를 활용한 클러스터 관리 경험', 'DevOps'), ('정보보안 취약점 분석 경험', 'Security'), ('AWS 기반 클라우드 인프라 구축 경험', 'Cloud'), ('MongoDB를 활용한 데이터베이스 관리 경험', 'Database'), ('iOS 앱 개발 경험', 'Mobile'), ('Unity 게임 엔진 경험', 'Game'), ('임베디드 시스템 하드웨어 설계 경험', 'Embedded'), ('IoT 데이터 분석 및 시각화 경험', 'IoT'), ('스마트 계약 개발 경험', 'Blockchain'), ('VR/AR 콘텐츠 개발에 필요한 Unity 또는 Unreal Engine 활용 경험', 'VR/AR'), ('Python을 활용한 데이터 분석 경험', 'Data Science'), ('Spark를 활용한 데이터 처리 경험', 'Data Engineering'), ('SQL을 활용한 데이터 분석 경험', 'Data Analysis'), ('Tableau 또는 Power BI 활용 데이터 시각화 경험', 'Data Visualization'), ('데이터 정책 및 규정 수립 경험', 'Data Governance'), ('RESTful API 설계 경험', 'Backend'), ('React 기반 프론트엔드 개발 경험', 'Frontend'), ('Keras를 활용한 딥러닝 모델 학습 경험', 'AI/ML'), ('Docker를 활용한 컨테이너화 경험', 'DevOps'), ('보안 관련 규정 및 인증 지식', 'Security'), ('AWS 기반 클라우드 서비스 구축 경험', 'Cloud'), ('MySQL 데이터베이스 관리 경험', 'Database'), ('안드로이드 앱 개발 경험', 'Mobile'), ('3D 게임 엔진 이해도', 'Game'), ('Real-Time Operating System(RTOS) 이해도', 'Embedded'), ('MQTT 프로토콜 이해도', 'IoT'), ('스마트 컨트랙트 개발 경험', 'Blockchain'), ('VR/AR 개발을 위한 3D 모델링 경험', 'VR/AR'), ('딥러닝 모델 학습 경험', 'Data Science'), ('Spark를 활용한 대규모 데이터 처리 경험', 'Data Engineering'), ('SQL을 활용한 데이터 분석 경험', 'Data Analysis'), ('Tableau 또는 Power BI 활용 데이터 시각화 경험', 'Data Visualization'), ('데이터 정의 및 데이터 가이드라인 구축 경험', 'Data Governance'), ('Spring Boot를 활용한 웹 애플리케이션 개발 경험', 'Backend'), ('React 기반 프론트엔드 개발 경험', 'Frontend'), ('Keras를 활용한 딥러닝 모델 학습 경험', 'AI/ML'), ('Kubernetes를 활용한 클러스터 관리 경험', 'DevOps'), ('보안 관련 정책 및 규정 이해도', 'Security'), ('AWS 기반 클라우드 인프라 구축 경험', 'Cloud'), ('MySQL 데이터베이스 관리 경험', 'Database'), ('Android 앱 개발 경험', 'Mobile'), ('Unity를 활용한 게임 개발 경험', 'Game'), ('임베디드 시스템 하드웨어 설계 경험', 'Embedded'), ('AWS IoT 플랫폼 구축 경험', 'IoT'), ('스마트 계약 개발 경험', 'Blockchain'), ('Unity를 활용한 3D 게임 개발 경험', 'VR/AR'), ('scikit-learn 라이브러리를 활용한 머신러닝 모델 개발 경험', 'Data Science'), ('데이터 플랫폼 구축 및 관리 경험', 'Data Engineering'), ('데이터 분석 및 시각화 도구 활용 경험', 'Data Analysis'), ('Tableau 또는 Power BI와 같은 데이터 시각화 도구 경험', 'Data Visualization'), ('데이터 가치 분석 및 개선 방안 제시 경험', 'Data Governance'), ('RESTful API 설계 경험', 'Backend'), ('React 기반 프론트엔드 개발 경험', 'Frontend'), ('Keras를 활용한 딥러닝 모델 학습 경험', 'AI/ML'), ('Docker를 활용한 컨테이너화 경험', 'DevOps'), ('보안 관련 정책 및 절차 이해도', 'Security'), ('AWS 기반 클라우드 서비스 구축 경험', 'Cloud'), ('PostgreSQL 데이터베이스 관리 경험', 'Database'), ('React Native 기반 앱 개발 경험', 'Mobile'), ('Unity를 활용한 게임 개발 경험', 'Game'), ('에미베디드 시스템 구현 경험', 'Embedded'), ('物联网 기기 데이터 처리 및 분석 경험', 'IoT'), ('스마트 계약(Smart Contract) 개발 경험', 'Blockchain'), ('Unity나 Unreal Engine 기반 VR/AR 콘텐츠 개발 경험', 'VR/AR'), ('딥러닝 모델 학습 경험', 'Data Science'), ('Spark를 활용한 대규모 데이터 처리 경험', 'Data Engineering'), ('Python을 활용한 데이터 분석 경험', 'Data Analysis'), ('Tableau 또는 Power BI 활용 데이터 시각화 경험', 'Data Visualization'), ('데이터 품질 관리 지침 수립 및 적용 경험', 'Data Governance'), ('Spring Boot를 활용한 웹 백엔드 서비스 개발 경험', 'Backend'), ('React 기반 프론트엔드 개발 경험', 'Frontend'), ('Keras를 활용한 딥러닝 모델 학습 경험', 'AI/ML'), ('## HighlightAnsible을 활용한 자동화 경험', 'DevOps'), ('SIEM 도구 운영 및 분석 경험', 'Security'), ('AWS 클라우드 환경 구축 및 관리 경험', 'Cloud'), ('MySQL 데이터베이스 성능 최적화 경험', 'Database'), ('엑스팔로어 API 활용 경험', 'Mobile'), ('Unity 를 활용한 게임 개발 경험', 'Game'), ('실제 임베디드 시스템 제품 개발 경험', 'Embedded'), ('LoRaWAN 기술에 대한 이해도', 'IoT'), ('스마트 계약 개발 경험', 'Blockchain'), ('VR/AR 콘텐츠 개발을 위한 3D 모델링 경험', 'VR/AR'), ('Scikit-learn을 활용한 머신러닝 모델 학습 경험', 'Data Science'), ('Spark를 활용한 대규모 데이터 처리 경험', 'Data Engineering'), ('SQL을 활용한 데이터 분석 경험', 'Data Analysis'), ('Tableau 또는 Power BI 활용 데이터 시각화 경험', 'Data Visualization'), ('데이터 정의 및 데이터 규칙 정책 수립 경험', 'Data Governance'), ('Spring Boot를 활용한 Backend 개발 경험', 'Backend'), ('서버사이드 렌더링(SSR) 이해도', 'Frontend'), ('Keras를 활용한 딥러닝 모델 학습 경험', 'AI/ML'), ('Kubernetes 환경 구축 및 관리 경험', 'DevOps'), ('인증 시스템 설계 경험', 'Security'), ('AWS 기반 클라우드 서비스 구축 경험', 'Cloud'), ('MySQL 데이터베이스 설계 경험', 'Database'), ('Android 개발 경험', 'Mobile'), ('3D 게임 엔진에 대한 이해도', 'Game'), ('Embedded 시스템 개발 경험', 'Embedded'), ('LoRaWAN 통신 프로토콜 이해도', 'IoT'), ('스마트 계약 개발 경험', 'Blockchain'), ('VR/AR 콘텐츠 개발에 필요한 Unity 이력', 'VR/AR'), ('딥러닝 모델 평가 및 개선 경험', 'Data Science'), ('Spark를 활용한 대용량 데이터 처리 경험', 'Data Engineering'), ('파이썬을 활용한 데이터 분석 경험', 'Data Analysis'), ('Tableau 또는 Power BI 활용 경험', 'Data Visualization'), ('데이터 정의 및 데이터 품질 관리 관련 지식', 'Data Governance'), ('Spring Boot를 활용한 웹 백엔드 개발 경험', 'Backend'), ('서버사이드 렌더링(SSR) 이해도', 'Frontend'), ('Keras를 활용한 딥러닝 모델 학습 경험', 'AI/ML'), ('Ansible를 활용한 자동화 경험', 'DevOps'), ('SIEM 시스템 운영 및 관리 경험', 'Security'), ('AWS 기반 클라우드 서비스 구축 경험', 'Cloud'), ('MySQL 데이터베이스 관리 경험', 'Database'), ('Android 앱 개발 경험', 'Mobile'), ('Unity나 Unreal Engine 기반 게임 개발 경험', 'Game'), ('임베디드 시스템 하드웨어 및 소프트웨어 협업 경험', 'Embedded'), ('MQTT 프로토콜 활용 경험', 'IoT'), ('스마트 계약(Smart contract) 개발 경험', 'Blockchain'), ('Unity 또는 Unreal Engine 기반 VR/AR 애플리케이션 개발 경험', 'VR/AR'), ('파이썬을 활용한 데이터 분석 경험', 'Data Science'), ('Spark를 활용한 대규모 데이터 처리 경험', 'Data Engineering'), ('데이터분석 도구(SQL, Python 등) 활용 경험', 'Data Analysis'), ('Tableau 또는 Power BI 활용  데이터 시각화 경험', 'Data Visualization'), ('데이터 정의 및 데이터 품질 관리 관련 지식', 'Data Governance'), ('RESTful API 개발 경험', 'Backend'), ('React 기반 프론트엔드 개발 경험', 'Frontend'), ('Keras를 활용한 딥러닝 모델 학습 경험', 'AI/ML'), ('Linux 시스템 관리 경험', 'DevOps'), ('네트워크 보안 설계 경험', 'Security'), ('AWS 기반 클라우드 서비스 구현 경험', 'Cloud'), ('PostgreSQL 데이터베이스 관리 경험', 'Database'), ('스마트폰 앱 개발 경험', 'Mobile'), ('Unity 게임 엔진 경험', 'Game'), ('에임베드 시스템 하드웨어 설계 경험', 'Embedded'), ('MQTT 프로토콜 이해도', 'IoT'), ('스마트 계약 개발 경험', 'Blockchain'), ('VR 컨텐츠 개발 경험', 'VR/AR'), ('PyTorch를 활용한 딥러닝 모델 개발 경험', 'Data Science'), ('Spark를 활용한 데이터 처리 경험', 'Data Engineering'), ('SQL을 활용한 데이터 분석 경험', 'Data Analysis'), ('데이터 시각화 도구(Tableau, Power BI 등) 활용 경험', 'Data Visualization'), ('데이터 모델 설계 경험', 'Data Governance'), ('Spring Boot를 활용한 웹 백엔드 서비스 개발 경험', 'Backend'), ('React 기반 프론트엔드 개발 경험', 'Frontend'), ('Keras를 활용한 딥러닝 모델 학습 경험', 'AI/ML'), ('Kubernetes를 활용한 클러스터 관리 경험', 'DevOps'), ('PKI 기술 이해도', 'Security'), ('AWS 기반 클라우드 시스템 구축 경험', 'Cloud'), ('SQL Server 데이터베이스 관리 경험', 'Database'), ('자바를 활용한 모바일 앱 개발 경험', 'Mobile'), ('Unity를 활용한 게임 개발 경험', 'Game'), ('에म्ब디드 시스템 하드웨어 구현 경험', 'Embedded'), ('MQTT 프로토콜 이해도', 'IoT'), ('비트코인 네트워크를 이용한 스마트 계약 개발 경험', 'Blockchain'), ('VR/AR 애플리케이션 개발을 위한 3D 모델링 경험', 'VR/AR'), ('TensorFlow를 활용한 딥러닝 모델 개발 경험', 'Data Science'), ('PySpark를 활용한 데이터 처리 경험', 'Data Engineering'), ('SQL 데이터베이스 분석 기술', 'Data Analysis'), ('데이터 시각화 도구(Tableau, Power BI 등) 활용 경험', 'Data Visualization'), ('데이터 가상화 기술(Data virtualization) 이해도', 'Data Governance'), ('Spring Boot를 활용한 웹 백엔드 서비스 개발 경험', 'Backend'), ('React 기반 프론트엔드 개발 경험', 'Frontend'), ('Keras를 활용한 딥러닝 모델 학습 경험', 'AI/ML'), ('Terraform을 활용한 인프라 자동화 경험', 'DevOps'), ('보안 기술 (Security technology) 경험', 'Security'), ('AWS 기반 클라우드 서비스 구축 경험', 'Cloud'), ('PostgreSQL 데이터베이스 관리 경험', 'Database'), ('Android 개발 경험', 'Mobile'), ('Unity 게임 엔진을 활용한 게임 개발 경험', 'Game'), ('임베디드 시스템 하드웨어 설계 경험', 'Embedded'), ('MQTT 프로토콜 이해도', 'IoT'), ('스마트 계약(Smart contract) 개발 경험', 'Blockchain'), ('Unity 또는 Unreal Engine 기반 VR/AR 앱 개발 경험', 'VR/AR'), ('피처 엔지니어링 경험', 'Data Science'), ('Apache Spark를 활용한 데이터 처리 경험', 'Data Engineering'), ('SQL을 활용한 데이터 분석 경험', 'Data Analysis'), ('Tableau 또는 Power BI 활용 데이터 시각화 도구 경험', 'Data Visualization'), ('데이터 정의 및 데이터 품질 관리 관련 이해도', 'Data Governance'), ('Spring Boot를 활용한 웹 백엔드 서비스 개발 경험', 'Backend'), ('React 기반 프론트엔드 개발 경험', 'Frontend'), ('Keras를 활용한 딥러닝 모델 학습 경험', 'AI/ML'), ('Kubernetes 환경 구축 및 관리 경험', 'DevOps'), ('침투 테스트 경험', 'Security'), ('AWS 클라우드 플랫폼 서비스 구축 및 운영 경험', 'Cloud'), ('MySQL을 활용한 데이터베이스 관리 경험', 'Database'), ('스마트폰 앱 개발 경험', 'Mobile'), ('Unity 게임 엔진을 활용한 게임 개발 경험', 'Game'), ('임베디드 시스템 하드웨어 설계 경험', 'Embedded'), ('LoRaWAN 기반 IoT 네트워크 구축 경험', 'IoT'), ('블록체인 네트워크 고급 분석 경험', 'Blockchain'), ('Unity 또는 Unreal Engine를 활용한 VR/AR 콘텐츠 개발 경험', 'VR/AR'), ('PySpark를 활용한 대규모 데이터 분석 경험', 'Data Science'), ('Spark를 활용한 데이터 처리 경험', 'Data Engineering'), ('Data analysis 관련 SQL 쿼리 활용 경험', 'Data Analysis'), ('Tableau 또는 Power BI 활용 데이터 시각화 경험', 'Data Visualization'), ('데이터 품질 관리 및 데이터 정의 규칙 설정 경험', 'Data Governance'), ('Spring Boot를 활용한 웹 백엔드 서비스 개발 경험', 'Backend'), ('서버사이드 렌더링(SSR) 이해도', 'Frontend'), ('Keras를 활용한 딥러닝 모델 학습 경험', 'AI/ML'), ('Kubernetes를 활용한 클러스터 운영 경험', 'DevOps'), ('정보보안 정책 수립 경험', 'Security'), ('AWS 클라우드 플랫폼 환경 구축 및 운영 경험', 'Cloud'), ('MySQL 데이터베이스 관리 경험', 'Database'), ('Android 개발 경험', 'Mobile'), ('Unity 게임 엔진을 활용한 게임 개발 경험', 'Game'), ('Embedded 시스템 소프트웨어 개발 경험', 'Embedded'), ('MQTT 프로토콜 이해도', 'IoT'), ('비트코인 또는 이더리움 플랫폼 개발 경험', 'Blockchain'), ('VR/AR 콘텐츠 개발에 필요한 3D 모델링 기술 이해도', 'VR/AR'), ('Keras를 활용한 딥러닝 모델 학습 경험', 'Data Science'), ('Spark를 활용한 대용량 데이터 처리 경험', 'Data Engineering'), ('데이터 분석 도구(ex: Pandas, SQL) 활용 경험', 'Data Analysis'), ('Tableau 또는 Power BI를 활용한 데이터 시각화 경험', 'Data Visualization'), ('데이터셋 표준화 및 정의 경험', 'Data Governance'), ('Spring Boot을 활용한 웹 백엔드 개발 경험', 'Backend'), ('React 기반 프론트엔드 개발 경험', 'Frontend'), ('Keras를 활용한 딥러닝 모델 학습 경험', 'AI/ML'), ('Kubernetes를 활용한 클라우드 환경 관리 경험', 'DevOps'), ('네트워크 보안 장치(NAC) 설계 및 구현 경험', 'Security'), ('AWS 기반 클라우드 서비스 구축 경험', 'Cloud'), ('MySQL을 활용한 데이터베이스 설계 경험', 'Database'), ('Android 개발 경험', 'Mobile'), ('Unity 게임 엔진 경험', 'Game'), ('에म्ब디드 시스템 개발 경험', 'Embedded'), ('LoRaWAN 통신 프로토콜 이해도', 'IoT'), ('비트코인 또는 이더리움 등 블록체인 플랫폼 개발 경험', 'Blockchain'), ('VR/AR 콘텐츠 개발을 위한 3D 모델링 경험', 'VR/AR'), ('Spark를 활용한 대규모 데이터 처리 경험', 'Data Science'), ('Spark를 활용한 대규모 데이터 처리 경험', 'Data Engineering'), ('Python을 활용한 데이터 분석 경험', 'Data Analysis'), ('태블로 또는 차트를 활용한 데이터 시각화 경험', 'Data Visualization'), ('데이터 품질 관리 가이드라인에 대한 이해도', 'Data Governance'), ('Spring Boot를 활용한  백엔드  서비스 개발 경험', 'Backend'), ('React, 기반의 프론트엔드 개발 경험', 'Frontend'), ('Keras를 활용한 딥러닝 모델 학습 경험', 'AI/ML'), ('Kubernetes 클러스터 운영 경험', 'DevOps'), ('SIEM 시스템 운영 및 분석 경험', 'Security'), ('AWS 기반 클라우드 서비스 구축 경험', 'Cloud'), ('SQL을 활용한 데이터베이스 관리 경험', 'Database'), ('React Native를 활용한 모바일 앱 개발 경험', 'Mobile'), ('Unity 게임 엔진을 활용한 게임 개발 경험', 'Game'), ('임베디드 시스템 하드웨어 설계 경험', 'Embedded'), ('MQTT 프로토콜 이해도', 'IoT'), ('스마트 컨트랙트 개발 경험', 'Blockchain'), ('VR/AR 콘텐츠 개발을 위한 Unity 엔진 경험', 'VR/AR'), ('데이터 분석 및 시각화 도구 (예: Tableau, Power BI)  경험', 'Data Science'), ('Spark를 활용한 대규모 데이터 처리 경험', 'Data Engineering'), ('Spark를 활용한 데이터 분석 경험', 'Data Analysis'), ('Tableau 또는 Power BI를 활용한 데이터 시각화 솔루션 개발 경험', 'Data Visualization'), ('데이터 정의 및 설계 지침 수립 경험', 'Data Governance'), ('Spring Boot를 활용한 웹 백엔드 개발 경험', 'Backend'), ('React 기반 프론트엔드 개발 경험', 'Frontend'), ('Keras를 활용한 딥러닝 모델 학습 경험', 'AI/ML'), ('AWS CloudFormation을 활용한 인프라 자동화  경험', 'DevOps'), ('보안 정책 수립 및 관리 경험', 'Security'), ('AWS 기반 클라우드 서비스 구축 경험', 'Cloud'), ('MySQL 데이터베이스 관리 경험', 'Database'), ('Kotlin을 활용한 모바일 앱 개발 경험', 'Mobile'), ('Unity를 활용한 게임 개발 경험', 'Game'), ('에म्ब디드 시스템 개발 경험', 'Embedded'), ('MQTT 프로토콜 이해도', 'IoT'), ('스마트 계약 개발 경험', 'Blockchain'), ('VR/AR 콘텐츠 개발을 위한 3D 모델링 경험', 'VR/AR'), ('데이터 분석 및 시각화 툴 활용 경험', 'Data Science'), ('Spark를 활용한 대규모 데이터 처리 경험', 'Data Engineering'), ('SQL을 활용한 데이터베이스 분석 경험', 'Data Analysis'), ('Tableau 또는 Power BI와 같은 데이터 시각화 도구 경험', 'Data Visualization'), ('데이터 정책 및 규정에 대한 이해도', 'Data Governance'), ('RESTful API 설계 경험', 'Backend'), ('React 기반 프론트엔드 개발 경험', 'Frontend'), ('Keras를 활용한 딥러닝 모델 학습 경험', 'AI/ML'), ('Jenkins를 활용한 자동화 시스템 구축 경험', 'DevOps'), ('암호화 기술에 대한 이해도', 'Security'), ('AWS 기반 클라우드 서비스 구축 경험', 'Cloud'), ('PostgreSQL 데이터베이스 관리 경험', 'Database'), ('React Native을 활용한 모바일 앱 개발 경험', 'Mobile'), ('Unity 게임 엔진을 활용한 게임 개발 경험', 'Game'), ('임베디드 시스템 하드웨어 설계 경험', 'Embedded'), ('MQTT 프로토콜에 대한 이해도', 'IoT'), ('비트코인 또는 이더리움 네트워크 개발 경험', 'Blockchain'), ('Unity를 활용한 AR/VR 앱 개발 경험', 'VR/AR'), ('Scikit-learn 라이브러리를 활용한 머신러닝 모델 개발 경험', 'Data Science'), ('PySpark를 활용한 데이터 처리 경험', 'Data Engineering'), ('SQL을 활용한 데이터 분석 경험', 'Data Analysis'), ('Tableau 또는 Power BI를 활용한 데이터 시각화 경험', 'Data Visualization'), ('데이터 정의 및 관리 정책 수립 경험', 'Data Governance'), ('Spring Boot를 활용한 웹 백엔드 서비스 개발 경험', 'Backend'), ('서버사이드 렌더링(SSR) 이해도', 'Frontend'), ('Keras를 활용한 딥러닝 모델 학습 경험', 'AI/ML'), ('Kubernetes를 활용한 클러스터 관리 경험', 'DevOps'), ('보안 관련 정책 및 가이드라인 이해도', 'Security'), ('AWS 기반 클라우드 서비스 구축 경험', 'Cloud'), ('MySQL 데이터베이스 관리 경험', 'Database'), ('Kotlin을 활용한 앱 개발 경험', 'Mobile'), ('3D 게임 엔진 이해도', 'Game'), ('실시간 시스템 운영에 대한 이해도', 'Embedded'), ('MQTT 프로토콜 이해도', 'IoT'), ('스마트 계약 개발 경험', 'Blockchain'), ('VR/AR 솔루션 개발 경험', 'VR/AR'), ('Keras를 활용한 딥러닝 모델 학습 경험', 'Data Science'), ('Spark를 활용한 데이터 처리 경험', 'Data Engineering'), ('SQL을 활용한 데이터 분석 경험', 'Data Analysis'), ('Tableau 또는 Power BI 활용 데이터 시각화 경험', 'Data Visualization'), ('데이터 정의 및 표준화 지침 수립 경험', 'Data Governance'), ('Spring Boot를 활용한 웹 백엔드 서비스 개발 경험', 'Backend'), ('React 기반 프론트엔드 개발 경험', 'Frontend'), ('Keras를 활용한 딥러닝 모델 학습 경험', 'AI/ML'), ('Kubernetes를 활용한 클러스터 관리 경험', 'DevOps'), ('시큐리티 관련 기술 문서 작성 경험', 'Security'), ('AWS 기반 클라우드 서비스 구축 경험', 'Cloud'), ('MySQL을 활용한 데이터베이스 설계 경험', 'Database'), ('자바를 활용한 모바일 앱 개발 경험', 'Mobile'), ('Unity 게임 엔진 활용 경험', 'Game'), ('에미베드 시스템 하드웨어 설계 경험', 'Embedded'), ('LoRaWAN 프로토콜에 대한 이해도', 'IoT'), ('스마트 컨트랙트 개발 경험', 'Blockchain'), ('VR/AR 렌더링 기술 이해도', 'VR/AR'), ('Keras를 활용한 딥러닝 모델 학습 경험', 'Data Science'), ('Spark를 활용한 데이터 처리 경험', 'Data Engineering'), ('SQL을 활용한 데이터 분석 경험', 'Data Analysis'), ('Tableau 또는 Power BI를 활용한 데이터 시각화 경험', 'Data Visualization'), ('데이터 정의 및 규정 설정 경험', 'Data Governance'), ('Spring Boot을 활용한 웹 백엔드 개발 경험', 'Backend'), ('React 기반 프론트엔드 개발 경험', 'Frontend'), ('Keras를 활용한 딥러닝 모델 학습 경험', 'AI/ML'), ('Kubernetes 배포 경험', 'DevOps'), ('보안 솔루션 시스템 설계 경험', 'Security'), ('AWS 기반 클라우드 서비스 구축 경험', 'Cloud'), ('MySQL 데이터베이스 설계 경험', 'Database'), ('스마트폰 앱 개발 경험', 'Mobile'), ('Unity를 활용한 게임 개발 경험', 'Game'), ('엔드버터시스템 운영 경험', 'Embedded'), ('LoRaWAN 통신 프로토콜 이해도', 'IoT'), ('비트코인 또는 이더리움 등 블록체인 플랫폼에 대한 이해도', 'Blockchain'), ('VR/AR 콘텐츠 개발에 대한 경험', 'VR/AR'), ('Pandas를 활용한 데이터 분석 경험', 'Data Science'), ('Spark를 활용한 대규모 데이터 처리 경험', 'Data Engineering'), ('SQL을 활용한 데이터베이스 분석 경험', 'Data Analysis'), ('태블로 데이터 시각화를 위한 D3.js 경험', 'Data Visualization'), ('데이터 품질 관리 경험', 'Data Governance'), ('Spring Boot를 활용한 웹 백엔드 서비스 개발 경험', 'Backend'), ('서버사이드 렌더링(SSR) 이해도', 'Frontend'), ('Keras를 활용한 딥러닝 모델 학습 경험', 'AI/ML'), ('Kubernetes 배포 환경 구축 및 관리 경험', 'DevOps'), ('보안 관련 정책 수립 경험', 'Security'), ('AWS 기반 클라우드 서비스 구축 경험', 'Cloud'), ('PostgreSQL 데이터베이스 관리 경험', 'Database'), ('Android 개발 경험', 'Mobile'), ('Unity를 활용한 게임 개발 경험', 'Game'), ('임베디드 시스템 하드웨어 및 소프트웨어 시스템 설계 경험', 'Embedded'), ('MQTT 프로토콜 이해도', 'IoT'), ('스마트 컨트랙트 개발 경험', 'Blockchain'), ('VR/AR 콘텐츠 개발에 사용되는 Unity 엔진 이해도', 'VR/AR'), ('Scikit-learn을 활용한 머신러닝 모델 개발 경험', 'Data Science'), ('Spark를 활용한 데이터 처리 경험', 'Data Engineering'), ('SQL을 활용한 데이터 분석 경험', 'Data Analysis'), ('데이터 시각화 도구 (예: Tableau, Power BI) 활용 경험', 'Data Visualization'), ('데이터 정의 및 가이드라인 수립 경험', 'Data Governance'), ('Spring Boot를 활용한 웹 백엔드 개발 경험', 'Backend'), ('React 기반 프론트엔드 개발 경험', 'Frontend'), ('Keras를 활용한 딥러닝 모델 학습 경험', 'AI/ML'), ('Kubernetes를 활용한 클러스터 관리 경험', 'DevOps'), ('SIEM 도구 운영 및 분석 경험', 'Security'), ('AWS 클라우드 환경 구축 및 운영 경험', 'Cloud'), ('MySQL을 활용한 데이터베이스 설계 경험', 'Database'), ('Android 개발 경험', 'Mobile'), ('Unity 게임 엔진을 활용한 게임 개발 경험', 'Game'), ('엔 bedded 시스템 펌웨어 개발 경험', 'Embedded'), ('LoRaWAN을 활용한 IoT 시스템 개발 경험', 'IoT'), ('스마트 계약(Smart contract) 개발 경험', 'Blockchain'), ('VR/AR 콘텐츠 개발에 대한 이해도', 'VR/AR'), ('데이터 분석 라이브러리 활용 경험', 'Data Science'), ('데이터 플랫폼 구축 및 관리 경험', 'Data Engineering'), ('SQL을 활용한 데이터 분석 경험', 'Data Analysis'), ('Tableau 또는 Power BI를 활용한 데이터 시각화 경험', 'Data Visualization'), ('데이터 정의 및 데이터 품질 관리에 대한 이해도', 'Data Governance'), ('Spring Boot를 활용한 웹 백엔드 서비스 개발 경험', 'Backend'), ('서버사이드 렌더링(SSR) 이해도', 'Frontend'), ('Keras를 활용한 딥러닝 모델 학습 경험', 'AI/ML'), ('Terraform을 활용한 인프라 자동화 경험', 'DevOps'), ('정보보안 시스템 구축 경험', 'Security'), ('AWS Cloud 서비스 운영 및 관리 경험', 'Cloud'), ('MySQL 데이터베이스 관리 경험', 'Database'), ('자바를 활용한 모바일 앱 개발 경험', 'Mobile'), ('Unity 게임 엔진을 활용한 게임 개발 경험', 'Game'), ('에임베디드 시스템 설계 경험', 'Embedded'), ('MQTT 프로토콜 이해도', 'IoT'), ('비트코인 네트워크 구현 방식에 대한 이해도', 'Blockchain'), ('AR/VR 개발 환경 구축 경험', 'VR/AR'), ('Scikit-learn을 활용한 머신러닝 모델 개발 경험', 'Data Science'), ('Spark를 활용한 대규모 데이터 처리 경험', 'Data Engineering'), ('SQL을 활용한 데이터 분석 경험', 'Data Analysis'), ('태블로, 차트 등 다양한 형태의 데이터 시각화 도구 활용 경험', 'Data Visualization'), ('데이터 품질 관리 및 개선 프로세스 경험', 'Data Governance'), ('Spring Boot를 활용한 웹 백엔드 개발 경험', 'Backend'), ('React 기반 프론트엔드 개발 경험', 'Frontend'), ('Keras를 활용한 딥러닝 모델 학습 경험', 'AI/ML'), ('CI/CD Pipeline 구축 경험', 'DevOps'), ('SIEM 도구 운영 경험', 'Security'), ('AWS 기반 클라우드 서비스 구축 경험', 'Cloud'), ('MySQL 데이터베이스 관리 경험', 'Database'), ('스마트폰 앱 개발 경험', 'Mobile'), ('Unity 게임 엔진을 활용한 게임 개발 경험', 'Game'), ('임베디드 시스템 하드웨어 설계 경험', 'Embedded'), ('MQTT 프로토콜에 대한 이해도', 'IoT'), ('스마트 계약(Smart Contract) 개발 경험', 'Blockchain'), ('VR/AR 컨텐츠 개발 경험', 'VR/AR'), ('Keras를 활용한 딥러닝 모델 학습 경험', 'Data Science'), ('Spark를 활용한 데이터 처리 경험', 'Data Engineering'), ('SQL을 활용한 데이터베이스 분석 경험', 'Data Analysis'), ('Tableau 또는 Power BI를 활용한 데이터 시각화 경험', 'Data Visualization'), ('데이터 품질 관리 및 정책 수립 경험', 'Data Governance'), ('Spring Boot를 활용한 웹 백엔드 서비스 개발 경험', 'Backend'), ('React 기반 프론트엔드 개발 경험', 'Frontend'), ('Keras를 활용한 딥러닝 모델 학습 경험', 'AI/ML'), ('Kubernetes 클러스터 운영 경험', 'DevOps'), ('시스템 보안 취약점 분석 경험', 'Security'), ('AWS 기반 클라우드 서비스 구축 경험', 'Cloud')]\n"
          ]
        }
      ]
    },
    {
      "cell_type": "code",
      "source": [
        "reflect_levels = [0, 25, 50, 75, 100]"
      ],
      "metadata": {
        "id": "b3uFz2DPTx6b"
      },
      "execution_count": null,
      "outputs": []
    },
    {
      "cell_type": "code",
      "source": [
        "highlight = data[1][0]\n",
        "job_category = data[1][1]\n",
        "for reflect_level in reflect_levels:\n",
        "    generated_data = generate_data(highlight, job_category, reflect_level)\n",
        "    print(generated_data)"
      ],
      "metadata": {
        "colab": {
          "base_uri": "https://localhost:8080/"
        },
        "id": "2GE6LP5GT1l3",
        "outputId": "7e56ecbc-985a-4213-cca9-a195df5dda50"
      },
      "execution_count": null,
      "outputs": [
        {
          "output_type": "stream",
          "name": "stdout",
          "text": [
            "{'Highlight': 'React 기반 프론트엔드 개발 경험', 'SelfIntroduction': '저는 웹 개발에 큰 관심이 있고, 프론트엔드 개발을 배우고 있습니다. HTML, CSS, JavaScript에 익숙하며, React 라이브러리에 대해 배우고 싶은 의지가 있습니다.', 'Feedback': \"5점 만점으로 평가하였을 때 1점입니다. React 기반 프론트엔드 개발 경험에 대한 내용이 전혀 없어, 요청된 핵심 역량을 보여주지 못했습니다. '웹 개발에 큰 관심이 있고, 프론트엔드 개발을 배우고 있습니다.'와 같은 일반적인 표현보다는, 구체적인 경험과 그 경험을 통해 얻은 성과나 배움을 강조하시고, 실무에 어떻게 적용할 수 있을지 반영하면 좋을 것 같습니다.\", 'JDReflectRate': 0, 'JobCategory': 'Frontend'}\n",
            "{'Highlight': 'React 기반 프론트엔드 개발 경험', 'SelfIntroduction': '학부 과정에서 프로젝트를 통해 React를 배우고 간단한 웹 페이지를 개발했습니다.  컴포넌트 기반 구조와 state 관리에 대한 기본적인 이해를 하였으며, Redux를 이용하여 프로젝트에서 상태를 관리하는 방식을 경험했습니다.', 'Feedback': '5점 만점으로 평가하였을 때 2점입니다. React를 이용한 프론트엔드 개발 경험을 언급하고 있지만, 구체적인 프로젝트나 기술 사용 사례가 부족합니다. 또한, 배운 내용을 어떻게 실무에 적용할 수 있을지에 관한 언급이 필요합니다.', 'JDReflectRate': 25, 'JobCategory': 'Frontend'}\n",
            "{'Highlight': 'React 기반 프론트엔드 개발 경험', 'SelfIntroduction': '저는 웹 개발에 대한 관심이 많아 프론트엔드 개발을 배우기 시작했습니다. 특히, React를 통해 컴포넌트 기반 개발을 배우고 프로젝트를 진행해왔습니다. 몇몇 개인 프로젝트에서 React와 Redux를 활용하여 사용자 인터페이스를 디자인하고 구현해보았으며, 이를 통해 컴포넌트의 재사용성과 데이터 관리 방식에 대해 이해를 높였습니다.', 'Feedback': '5점 만점으로 평가하였을 때 3점입니다. React 기반 프론트엔드 개발 경험을 언급하고 있지만, 구체적인 프로젝트나 기술 사용 사례가 부족합니다. 또한, 배운 내용을 어떻게 실무에 적용할 수 있을지에 관한 언급이 필요합니다.', 'JDReflectRate': 50, 'JobCategory': 'Frontend'}\n",
            "{'Highlight': 'React 기반 프론트엔드 개발 경험', 'SelfIntroduction': '학부 프로젝트에서 React를 활용하여 유저 인터페이스를 구현했습니다. React 컴포넌트 라이브러리를 사용하여 UI를 분리하고 재사용 가능한 코드를 작성했습니다. 특히, 상태 관리 라이브러리인 Redux를 사용하여 애플리케이션 상태를 효율적으로 관리하고 업데이트했습니다. 이 경험을 통해 React의 핵심 개념과 기법을 익히고, 복잡한 UI를 효율적으로 구현하는 숙련된 프론트엔드 개발자로 성장할 수 있게 되었습니다. 이러한 경험은 실무에서 사용자 친화적인 인터페이스를 제공하고, 애플리케이션 성능을 향상시키는 데 큰 도움이 될 것이라고 확신합니다.', 'Feedback': '5점 만점으로 평가하였을 때 4점입니다. React 기반 프론트엔드 개발 경험을 언급하고 있으며, React 컴포넌트, Redux 등 관련 기술을 적용한 사례를 제시하고 있습니다. 다만, 구체적인 프로젝트 내용이나 개발 과정을 더 자세하게 설명하면 더욱 설득력 있는 자기소개가 될 것입니다.', 'JDReflectRate': 75, 'JobCategory': 'Frontend'}\n",
            "JSON 디코딩 실패:\n",
            " {\"Highlight\": \"React 기반 프론트엔드 개발 경험\", \"SelfIntroduction\": \"학부 시절 React를 사용하여 개인 프로젝트인 온라인 학습 플랫폼을 구축했습니다. 컴포넌트 기반 디자인을 적용하여 UI를 구축하고, Redux를 사용하여 상태 관리를 해결했습니다. 또한, API 연동을 통해 서버 데이터를 불러와 화면에 표시하는 기능을 구현했습니다. 이 경험을 통해 React 기반 프론트엔드 개발의 원리를 깊이 이해하고, 프로젝트 전반을 효율적으로 관리하는 능력을 향상시켰습니다.\", \"Feedback\": \"5점 만점으로 평가하였을 때 5점입니다. React를 활용한 프론트엔드 개발 경험을 구체적으로 설명하고, React의 핵심 개념 (컴포넌트, 상태 관리, API 연동) 을 활용한 사례를 제시하며, 프로젝트 구축 과정을 \n",
            "자세히 설명하고 있습니다. 또한 앞으로 프론트엔드 개발자로서 어떠한 면에서 기여할 수 있을지 구체적으로 답변하고 있는 점이 긍정적으로 평가됩니다.\", \"JDReflectRate\": 100, \"JobCategory\": \"Frontend\"} \n",
            "\n",
            "None\n"
          ]
        }
      ]
    },
    {
      "cell_type": "code",
      "source": [
        "import pprint\n",
        "highlight = data[1][0]\n",
        "job_category = data[1][1]\n",
        "for reflect_level in reflect_levels:\n",
        "    generated_data = generate_data(highlight, job_category, reflect_level)\n",
        "    print(generated_data['SelfIntroduction'])"
      ],
      "metadata": {
        "colab": {
          "base_uri": "https://localhost:8080/",
          "height": 485
        },
        "id": "PSn_pUEYUEx5",
        "outputId": "35ac2678-6a49-4915-ee70-268a1cf13243"
      },
      "execution_count": null,
      "outputs": [
        {
          "output_type": "stream",
          "name": "stdout",
          "text": [
            "저는 웹 개발에 큰 관심이 있어 프로그래밍을 배우고 있습니다. HTML, CSS, JavaScript 기초를 다지고 있으며, React를 배우고 싶은 의지가 있습니다.\n",
            "프론트엔드 개발에 관심이 많아 React 를 배우고 있습니다. 기본적인 컴포넌트 구조와 상태 관리 방식을 이해하고 있고, 작은 프로젝트를 통해 React 기반 웹페이지를 구현해 보았습니다.\n",
            "학부 시절 React를 사용하여 간단한 웹 애플리케이션을 개발했습니다. 컴포넌트 기반 구조와 state 관리에 대해 배우고 실습했습니다. 이를 통해 React 프레임워크의 기본적인 개념을 이해하고, 프로젝트를 단위 컴포넌트로 분할하여 구현하는 방식을 경험했습니다.\n",
            "대학교 과제로 React를 사용하여 동적인 웹페이지를 구현했습니다. 컴포넌트 기반 구조를 활용하여 코드를 재사용하고 관리하기 쉽게 만들었으며, 상태 관리를 위해 Redux를 적용하여 데이터의 변화에 따라 페이지를 업데이트하는 것을 연습했습니다. 이를 통해 React의 기본적인 개념과 개발 방식을 익히고, 복잡한 웹 애플리케이션을 개발하는 데 필요한 지식을 쌓을 수 있었습니다. \n"
          ]
        },
        {
          "output_type": "error",
          "ename": "RateLimitError",
          "evalue": "Error code: 429 - {'error': {'message': 'Rate limit reached for model `gemma2-9b-it` in organization `org_01jqjv8v98e5nb1w05f9brc89a` service tier `on_demand` on tokens per day (TPD): Limit 500000, Used 498082, Requested 2739. Please try again in 2m21.8198s. Need more tokens? Upgrade to Dev Tier today at https://console.groq.com/settings/billing', 'type': 'tokens', 'code': 'rate_limit_exceeded'}}",
          "traceback": [
            "\u001b[0;31m---------------------------------------------------------------------------\u001b[0m",
            "\u001b[0;31mRateLimitError\u001b[0m                            Traceback (most recent call last)",
            "\u001b[0;32m<ipython-input-44-c053d0db5fec>\u001b[0m in \u001b[0;36m<cell line: 0>\u001b[0;34m()\u001b[0m\n\u001b[1;32m      3\u001b[0m \u001b[0mjob_category\u001b[0m \u001b[0;34m=\u001b[0m \u001b[0mdata\u001b[0m\u001b[0;34m[\u001b[0m\u001b[0;36m1\u001b[0m\u001b[0;34m]\u001b[0m\u001b[0;34m[\u001b[0m\u001b[0;36m1\u001b[0m\u001b[0;34m]\u001b[0m\u001b[0;34m\u001b[0m\u001b[0;34m\u001b[0m\u001b[0m\n\u001b[1;32m      4\u001b[0m \u001b[0;32mfor\u001b[0m \u001b[0mreflect_level\u001b[0m \u001b[0;32min\u001b[0m \u001b[0mreflect_levels\u001b[0m\u001b[0;34m:\u001b[0m\u001b[0;34m\u001b[0m\u001b[0;34m\u001b[0m\u001b[0m\n\u001b[0;32m----> 5\u001b[0;31m     \u001b[0mgenerated_data\u001b[0m \u001b[0;34m=\u001b[0m \u001b[0mgenerate_data\u001b[0m\u001b[0;34m(\u001b[0m\u001b[0mhighlight\u001b[0m\u001b[0;34m,\u001b[0m \u001b[0mjob_category\u001b[0m\u001b[0;34m,\u001b[0m \u001b[0mreflect_level\u001b[0m\u001b[0;34m)\u001b[0m\u001b[0;34m\u001b[0m\u001b[0;34m\u001b[0m\u001b[0m\n\u001b[0m\u001b[1;32m      6\u001b[0m     \u001b[0mprint\u001b[0m\u001b[0;34m(\u001b[0m\u001b[0mgenerated_data\u001b[0m\u001b[0;34m[\u001b[0m\u001b[0;34m'SelfIntroduction'\u001b[0m\u001b[0;34m]\u001b[0m\u001b[0;34m)\u001b[0m\u001b[0;34m\u001b[0m\u001b[0;34m\u001b[0m\u001b[0m\n",
            "\u001b[0;32m<ipython-input-36-504750a93363>\u001b[0m in \u001b[0;36mgenerate_data\u001b[0;34m(highlight, job_category, reflect_rate)\u001b[0m\n\u001b[1;32m      6\u001b[0m     )\n\u001b[1;32m      7\u001b[0m \u001b[0;34m\u001b[0m\u001b[0m\n\u001b[0;32m----> 8\u001b[0;31m     response = client.chat.completions.create(\n\u001b[0m\u001b[1;32m      9\u001b[0m         \u001b[0mmodel\u001b[0m\u001b[0;34m=\u001b[0m\u001b[0mMODEL_NAME\u001b[0m\u001b[0;34m,\u001b[0m\u001b[0;34m\u001b[0m\u001b[0;34m\u001b[0m\u001b[0m\n\u001b[1;32m     10\u001b[0m         messages=[\n",
            "\u001b[0;32m/usr/local/lib/python3.11/dist-packages/groq/resources/chat/completions.py\u001b[0m in \u001b[0;36mcreate\u001b[0;34m(self, messages, model, frequency_penalty, function_call, functions, logit_bias, logprobs, max_completion_tokens, max_tokens, n, parallel_tool_calls, presence_penalty, reasoning_format, response_format, seed, service_tier, stop, stream, temperature, tool_choice, tools, top_logprobs, top_p, user, extra_headers, extra_query, extra_body, timeout)\u001b[0m\n\u001b[1;32m    320\u001b[0m           \u001b[0mtimeout\u001b[0m\u001b[0;34m:\u001b[0m \u001b[0mOverride\u001b[0m \u001b[0mthe\u001b[0m \u001b[0mclient\u001b[0m\u001b[0;34m-\u001b[0m\u001b[0mlevel\u001b[0m \u001b[0mdefault\u001b[0m \u001b[0mtimeout\u001b[0m \u001b[0;32mfor\u001b[0m \u001b[0mthis\u001b[0m \u001b[0mrequest\u001b[0m\u001b[0;34m,\u001b[0m \u001b[0;32min\u001b[0m \u001b[0mseconds\u001b[0m\u001b[0;34m\u001b[0m\u001b[0;34m\u001b[0m\u001b[0m\n\u001b[1;32m    321\u001b[0m         \"\"\"\n\u001b[0;32m--> 322\u001b[0;31m         return self._post(\n\u001b[0m\u001b[1;32m    323\u001b[0m             \u001b[0;34m\"/openai/v1/chat/completions\"\u001b[0m\u001b[0;34m,\u001b[0m\u001b[0;34m\u001b[0m\u001b[0;34m\u001b[0m\u001b[0m\n\u001b[1;32m    324\u001b[0m             body=maybe_transform(\n",
            "\u001b[0;32m/usr/local/lib/python3.11/dist-packages/groq/_base_client.py\u001b[0m in \u001b[0;36mpost\u001b[0;34m(self, path, cast_to, body, options, files, stream, stream_cls)\u001b[0m\n\u001b[1;32m   1223\u001b[0m             \u001b[0mmethod\u001b[0m\u001b[0;34m=\u001b[0m\u001b[0;34m\"post\"\u001b[0m\u001b[0;34m,\u001b[0m \u001b[0murl\u001b[0m\u001b[0;34m=\u001b[0m\u001b[0mpath\u001b[0m\u001b[0;34m,\u001b[0m \u001b[0mjson_data\u001b[0m\u001b[0;34m=\u001b[0m\u001b[0mbody\u001b[0m\u001b[0;34m,\u001b[0m \u001b[0mfiles\u001b[0m\u001b[0;34m=\u001b[0m\u001b[0mto_httpx_files\u001b[0m\u001b[0;34m(\u001b[0m\u001b[0mfiles\u001b[0m\u001b[0;34m)\u001b[0m\u001b[0;34m,\u001b[0m \u001b[0;34m**\u001b[0m\u001b[0moptions\u001b[0m\u001b[0;34m\u001b[0m\u001b[0;34m\u001b[0m\u001b[0m\n\u001b[1;32m   1224\u001b[0m         )\n\u001b[0;32m-> 1225\u001b[0;31m         \u001b[0;32mreturn\u001b[0m \u001b[0mcast\u001b[0m\u001b[0;34m(\u001b[0m\u001b[0mResponseT\u001b[0m\u001b[0;34m,\u001b[0m \u001b[0mself\u001b[0m\u001b[0;34m.\u001b[0m\u001b[0mrequest\u001b[0m\u001b[0;34m(\u001b[0m\u001b[0mcast_to\u001b[0m\u001b[0;34m,\u001b[0m \u001b[0mopts\u001b[0m\u001b[0;34m,\u001b[0m \u001b[0mstream\u001b[0m\u001b[0;34m=\u001b[0m\u001b[0mstream\u001b[0m\u001b[0;34m,\u001b[0m \u001b[0mstream_cls\u001b[0m\u001b[0;34m=\u001b[0m\u001b[0mstream_cls\u001b[0m\u001b[0;34m)\u001b[0m\u001b[0;34m)\u001b[0m\u001b[0;34m\u001b[0m\u001b[0;34m\u001b[0m\u001b[0m\n\u001b[0m\u001b[1;32m   1226\u001b[0m \u001b[0;34m\u001b[0m\u001b[0m\n\u001b[1;32m   1227\u001b[0m     def patch(\n",
            "\u001b[0;32m/usr/local/lib/python3.11/dist-packages/groq/_base_client.py\u001b[0m in \u001b[0;36mrequest\u001b[0;34m(self, cast_to, options, remaining_retries, stream, stream_cls)\u001b[0m\n\u001b[1;32m    915\u001b[0m             \u001b[0mretries_taken\u001b[0m \u001b[0;34m=\u001b[0m \u001b[0;36m0\u001b[0m\u001b[0;34m\u001b[0m\u001b[0;34m\u001b[0m\u001b[0m\n\u001b[1;32m    916\u001b[0m \u001b[0;34m\u001b[0m\u001b[0m\n\u001b[0;32m--> 917\u001b[0;31m         return self._request(\n\u001b[0m\u001b[1;32m    918\u001b[0m             \u001b[0mcast_to\u001b[0m\u001b[0;34m=\u001b[0m\u001b[0mcast_to\u001b[0m\u001b[0;34m,\u001b[0m\u001b[0;34m\u001b[0m\u001b[0;34m\u001b[0m\u001b[0m\n\u001b[1;32m    919\u001b[0m             \u001b[0moptions\u001b[0m\u001b[0;34m=\u001b[0m\u001b[0moptions\u001b[0m\u001b[0;34m,\u001b[0m\u001b[0;34m\u001b[0m\u001b[0;34m\u001b[0m\u001b[0m\n",
            "\u001b[0;32m/usr/local/lib/python3.11/dist-packages/groq/_base_client.py\u001b[0m in \u001b[0;36m_request\u001b[0;34m(self, cast_to, options, retries_taken, stream, stream_cls)\u001b[0m\n\u001b[1;32m   1018\u001b[0m \u001b[0;34m\u001b[0m\u001b[0m\n\u001b[1;32m   1019\u001b[0m             \u001b[0mlog\u001b[0m\u001b[0;34m.\u001b[0m\u001b[0mdebug\u001b[0m\u001b[0;34m(\u001b[0m\u001b[0;34m\"Re-raising status error\"\u001b[0m\u001b[0;34m)\u001b[0m\u001b[0;34m\u001b[0m\u001b[0;34m\u001b[0m\u001b[0m\n\u001b[0;32m-> 1020\u001b[0;31m             \u001b[0;32mraise\u001b[0m \u001b[0mself\u001b[0m\u001b[0;34m.\u001b[0m\u001b[0m_make_status_error_from_response\u001b[0m\u001b[0;34m(\u001b[0m\u001b[0merr\u001b[0m\u001b[0;34m.\u001b[0m\u001b[0mresponse\u001b[0m\u001b[0;34m)\u001b[0m \u001b[0;32mfrom\u001b[0m \u001b[0;32mNone\u001b[0m\u001b[0;34m\u001b[0m\u001b[0;34m\u001b[0m\u001b[0m\n\u001b[0m\u001b[1;32m   1021\u001b[0m \u001b[0;34m\u001b[0m\u001b[0m\n\u001b[1;32m   1022\u001b[0m         return self._process_response(\n",
            "\u001b[0;31mRateLimitError\u001b[0m: Error code: 429 - {'error': {'message': 'Rate limit reached for model `gemma2-9b-it` in organization `org_01jqjv8v98e5nb1w05f9brc89a` service tier `on_demand` on tokens per day (TPD): Limit 500000, Used 498082, Requested 2739. Please try again in 2m21.8198s. Need more tokens? Upgrade to Dev Tier today at https://console.groq.com/settings/billing', 'type': 'tokens', 'code': 'rate_limit_exceeded'}}"
          ]
        }
      ]
    },
    {
      "cell_type": "code",
      "source": [],
      "metadata": {
        "id": "HmQ6UHIZX3OD"
      },
      "execution_count": null,
      "outputs": []
    }
  ]
}